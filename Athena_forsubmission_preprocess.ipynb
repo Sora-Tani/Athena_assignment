{
 "cells": [
  {
   "cell_type": "markdown",
   "metadata": {},
   "source": [
    "ここではデータの単位の変換および列名をローマ字に変換する操作を行った。"
   ]
  },
  {
   "cell_type": "code",
   "execution_count": 1,
   "metadata": {},
   "outputs": [],
   "source": [
    "import numpy as np\n",
    "import matplotlib.pyplot as plt\n",
    "import pandas as pd"
   ]
  },
  {
   "cell_type": "code",
   "execution_count": null,
   "metadata": {},
   "outputs": [],
   "source": [
    "df = pd.read_csv('stock_price.csv')\n",
    "#出来高のMをe6に、Bをe9に変換\n",
    "df[\"出来高\"] = df[\"出来高\"].str.replace(\"M\", \"e6\").str.replace(\"B\", \"e9\").astype(float)\n",
    "\n",
    "# 変化率の \"%\" を取り除き、数値に変換\n",
    "df[\"変化率 %\"] = df[\"変化率 %\"].str.replace(\"%\", \"\").astype(float)\n",
    "\n",
    "# 列名を変更\n",
    "df = df.rename(\n",
    "    columns={\n",
    "        \"日付け\": \"date\",\n",
    "        \"終値\": \"endprice\",\n",
    "        \"始値\": \"startprice\",\n",
    "        \"高値\": \"maxprice\",\n",
    "        \"安値\": \"minprice\",\n",
    "        \"出来高\": \"trade\",\n",
    "        \"変化率 %\": \"CR\",\n",
    "    }\n",
    ")\n",
    "\n",
    "#CRの絶対値の追加\n",
    "df[\"CRabs\"] = abs(df[\"CR\"])\n",
    "\n"
   ]
  },
  {
   "cell_type": "markdown",
   "metadata": {},
   "source": [
    "下のコードで、これから使うstock_price_processed.csvを作成した。"
   ]
  },
  {
   "cell_type": "code",
   "execution_count": null,
   "metadata": {},
   "outputs": [],
   "source": [
    "#df.to_csv(\"stock_price_processed.csv\")"
   ]
  }
 ],
 "metadata": {
  "kernelspec": {
   "display_name": "ml_env",
   "language": "python",
   "name": "python3"
  },
  "language_info": {
   "codemirror_mode": {
    "name": "ipython",
    "version": 3
   },
   "file_extension": ".py",
   "mimetype": "text/x-python",
   "name": "python",
   "nbconvert_exporter": "python",
   "pygments_lexer": "ipython3",
   "version": "3.9.15"
  }
 },
 "nbformat": 4,
 "nbformat_minor": 2
}
